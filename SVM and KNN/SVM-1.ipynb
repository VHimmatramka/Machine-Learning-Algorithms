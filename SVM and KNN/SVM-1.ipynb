{
 "cells": [
  {
   "cell_type": "code",
   "execution_count": 125,
   "metadata": {
    "collapsed": false
   },
   "outputs": [],
   "source": [
    "import numpy as np\n",
    "from sklearn import preprocessing , cross_validation , neighbors , svm\n",
    "from sklearn.ensemble import AdaBoostClassifier\n",
    "from sklearn.model_selection import train_test_split\n",
    "import pandas as pd"
   ]
  },
  {
   "cell_type": "code",
   "execution_count": 152,
   "metadata": {
    "collapsed": false
   },
   "outputs": [],
   "source": [
    "df = pd.read_csv('X.csv')"
   ]
  },
  {
   "cell_type": "code",
   "execution_count": 153,
   "metadata": {
    "collapsed": false
   },
   "outputs": [
    {
     "data": {
      "text/plain": [
       "288"
      ]
     },
     "execution_count": 153,
     "metadata": {},
     "output_type": "execute_result"
    }
   ],
   "source": [
    "len(df)"
   ]
  },
  {
   "cell_type": "code",
   "execution_count": 143,
   "metadata": {
    "collapsed": false
   },
   "outputs": [],
   "source": [
    "X = np.array(df.drop(['J'],1))\n",
    "y = np.array(df['J'])"
   ]
  },
  {
   "cell_type": "code",
   "execution_count": 158,
   "metadata": {
    "collapsed": false
   },
   "outputs": [
    {
     "name": "stdout",
     "output_type": "stream",
     "text": [
      "[[ 0.28201  0.30944  0.28572 ...,  0.99871  0.84     0.91111]\n",
      " [ 0.54759  0.5738   0.53236 ...,  0.99761  2.3778   2.4978 ]\n",
      " [ 1.3962   1.2924   1.3565  ...,  0.99462  6.7733   6.72   ]\n",
      " ..., \n",
      " [ 0.56575  0.55907  0.55321 ...,  0.99767  2.3733   2.44   ]\n",
      " [ 0.3988   0.39438  0.3717  ...,  0.99836  1.24     1.4133 ]\n",
      " [ 0.49568  0.49839  0.4872  ...,  0.99792  1.8622   1.92   ]] \n",
      "\n",
      "\n",
      " [[ 0.75607  0.76276  0.74253  0.99206  0.997    0.99685  0.99682  2.5156\n",
      "   2.6889 ]\n",
      " [ 0.88583  0.89971  0.84587  0.98624  0.9955   0.99631  0.99625  2.3556\n",
      "   2.9244 ]\n",
      " [ 0.32699  0.32244  0.34912  0.9925   0.998    0.99864  0.99866  0.85778\n",
      "   1.1067 ]\n",
      " [ 1.0883   1.1554   1.0265   0.98616  0.99513  0.99547  0.99519  2.6089\n",
      "   3.1244 ]\n",
      " [ 1.0173   0.99592  1.0387   0.98771  0.99568  0.99576  0.99585  5.2089\n",
      "   5.2178 ]\n",
      " [ 1.2128   1.2724   1.215    0.98691  0.99467  0.99495  0.9947   4.1733\n",
      "   4.6089 ]\n",
      " [ 1.1289   1.1294   1.1438   0.98957  0.99538  0.9953   0.99529  3.8356\n",
      "   4.3867 ]\n",
      " [ 1.0078   1.0193   0.99959  0.98802  0.99576  0.9958   0.99575  3.6933\n",
      "   4.0178 ]\n",
      " [ 0.75607  0.79396  0.79898  0.99108  0.99658  0.99685  0.99669  2.5156\n",
      "   2.8222 ]\n",
      " [ 1.1799   1.2299   1.1038   0.98599  0.99474  0.99508  0.99488  4.4756\n",
      "   4.6267 ]\n",
      " [ 0.       0.       0.       1.       1.       1.       1.       0.       0.     ]\n",
      " [ 0.9706   1.0124   0.97614  0.98857  0.9957   0.99596  0.99578  3.04\n",
      "   3.64   ]\n",
      " [ 0.81489  0.83817  0.81461  0.99226  0.99693  0.9966   0.99651  2.2356\n",
      "   2.7956 ]\n",
      " [ 0.80711  0.82777  0.8259   0.99051  0.9967   0.99664  0.99655  2.8756\n",
      "   2.9778 ]\n",
      " [ 1.3711   1.4189   1.4112   0.98566  0.99397  0.99429  0.99409  4.1556\n",
      "   4.9289 ]\n",
      " [ 0.73012  0.71422  0.67045  0.99138  0.99716  0.99696  0.99702  3.2667\n",
      "   3.2267 ]\n",
      " [ 0.97493  1.0037   0.97267  0.98784  0.99564  0.99594  0.99582  2.6844\n",
      "   3.12   ]\n",
      " [ 0.94725  0.96472  0.97354  0.99023  0.9957   0.99605  0.99598  2.9911\n",
      "   3.6044 ]\n",
      " [ 1.1869   1.0635   1.1099   0.98748  0.99535  0.99505  0.99557  5.9289\n",
      "   5.8756 ]\n",
      " [ 0.94552  0.96038  0.94575  0.99024  0.99613  0.99606  0.996    4.       4.04   ]\n",
      " [ 0.49482  0.5374   0.48199  0.99138  0.99793  0.99794  0.99776  1.2356\n",
      "   1.3822 ]\n",
      " [ 1.0467   1.0904   1.0117   0.98834  0.99579  0.99564  0.99546  3.1822\n",
      "   3.5422 ]\n",
      " [ 0.83133  0.84077  0.78421  0.98909  0.99652  0.99654  0.9965   3.1111\n",
      "   3.4622 ]\n",
      " [ 0.86676  0.92752  0.87625  0.99025  0.99607  0.99639  0.99614  2.3733\n",
      "   2.68   ]\n",
      " [ 0.96195  0.95952  0.97527  0.9883   0.99609  0.99599  0.996    3.2444\n",
      "   3.4356 ]\n",
      " [ 1.6627   1.6833   1.6718   0.98285  0.9931   0.99307  0.99299  4.7378\n",
      "   5.5556 ]\n",
      " [ 0.22232  0.2349   0.19801  0.99192  0.9988   0.99907  0.99902  0.80889\n",
      "   0.81778]\n",
      " [ 1.359    1.4163   1.4425   0.98477  0.99402  0.99434  0.9941   3.5467\n",
      "   4.6489 ]\n",
      " [ 1.3383   1.3799   1.3452   0.98676  0.99459  0.99442  0.99425  4.8711\n",
      "   5.3689 ]\n",
      " [ 0.52942  0.60154  0.52976  0.98868  0.99751  0.99779  0.99749  1.3244\n",
      "   1.4844 ]\n",
      " [ 1.808    1.8835   1.8585   0.98155  0.99243  0.99247  0.99215  7.52\n",
      "   7.9733 ]\n",
      " [ 1.1081   1.1658   1.1307   0.98716  0.9952   0.99538  0.99514  4.0311\n",
      "   4.2933 ]]\n"
     ]
    }
   ],
   "source": [
    "X_train , X_test , y_train , y_test = cross_validation.train_test_split(X,y,test_size = 0.1)"
   ]
  },
  {
   "cell_type": "code",
   "execution_count": 145,
   "metadata": {
    "collapsed": false
   },
   "outputs": [
    {
     "data": {
      "text/plain": [
       "AdaBoostClassifier(algorithm='SAMME',\n",
       "          base_estimator=SVC(C=1.0, cache_size=200, class_weight=None, coef0=0.0,\n",
       "  decision_function_shape=None, degree=3, gamma='auto', kernel='rbf',\n",
       "  max_iter=-1, probability=False, random_state=None, shrinking=True,\n",
       "  tol=0.001, verbose=False),\n",
       "          learning_rate=1.0, n_estimators=1000, random_state=None)"
      ]
     },
     "execution_count": 145,
     "metadata": {},
     "output_type": "execute_result"
    }
   ],
   "source": [
    "clf = AdaBoostClassifier(svm.SVC() , n_estimators=1000 , algorithm=\"SAMME\")\n",
    "clf.fit(X_train,y_train)"
   ]
  },
  {
   "cell_type": "code",
   "execution_count": 146,
   "metadata": {
    "collapsed": false
   },
   "outputs": [
    {
     "name": "stdout",
     "output_type": "stream",
     "text": [
      "0.4375\n"
     ]
    }
   ],
   "source": [
    "accuracy = clf.score(X_test,y_test)\n",
    "print(accuracy)"
   ]
  },
  {
   "cell_type": "code",
   "execution_count": 142,
   "metadata": {
    "collapsed": false
   },
   "outputs": [
    {
     "name": "stdout",
     "output_type": "stream",
     "text": [
      "[1 1 1 1 1 1 1 1 1 1 1 1 1 1 1 1 1 1 1 1 1 1 1 1 1 1 1 1 1 1 1 1]\n"
     ]
    }
   ],
   "source": [
    "print(clf.predict(X_test))"
   ]
  },
  {
   "cell_type": "code",
   "execution_count": null,
   "metadata": {
    "collapsed": true
   },
   "outputs": [],
   "source": []
  },
  {
   "cell_type": "code",
   "execution_count": null,
   "metadata": {
    "collapsed": true
   },
   "outputs": [],
   "source": []
  }
 ],
 "metadata": {
  "kernelspec": {
   "display_name": "Python 3",
   "language": "python",
   "name": "python3"
  },
  "language_info": {
   "codemirror_mode": {
    "name": "ipython",
    "version": 3
   },
   "file_extension": ".py",
   "mimetype": "text/x-python",
   "name": "python",
   "nbconvert_exporter": "python",
   "pygments_lexer": "ipython3",
   "version": "3.6.0"
  }
 },
 "nbformat": 4,
 "nbformat_minor": 0
}
